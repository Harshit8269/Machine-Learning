{
 "cells": [
  {
   "cell_type": "markdown",
   "id": "f28cb5c8-dc7a-4b2f-b25f-e4c31e6595ed",
   "metadata": {},
   "source": [
    "## Q1. What is data encoding? How is it useful in data science?\n"
   ]
  },
  {
   "cell_type": "markdown",
   "id": "de939cf3-1cab-4048-9632-f723e10200d6",
   "metadata": {},
   "source": [
    "## Ans. Data Encoding aims to convert a categorical feature into a suitable numerical feature so that we can train ML models.\n",
    "## In Data Science, Data encoding helps to convert categorical data to numerical data which makes it understandable for Machine Learning algorithmns."
   ]
  },
  {
   "cell_type": "markdown",
   "id": "5cb9c85f-f555-42a2-9efd-1adceb443d33",
   "metadata": {},
   "source": [
    "## Q2. What is nominal encoding? Provide an example of how you would use it in a real-world scenario.\n"
   ]
  },
  {
   "cell_type": "markdown",
   "id": "03d74be2-ac79-4abc-b14b-34b4a805698d",
   "metadata": {},
   "source": [
    "## Ans. Nominal Encoding is a technique used to transform categorical variables that have no intrinsic ordering into numerical values that can be used in machine learning models.\n",
    "## Ex: Let's say we have a dataset of fruits with a categorical variable called \"Color\" that can take values like \"Red,\" \"Green,\" and \"Blue.\" We want to encode this variable using nominal encoding."
   ]
  },
  {
   "cell_type": "markdown",
   "id": "a8f6b755-9730-4778-9fea-815b51d7db83",
   "metadata": {},
   "source": [
    "## Q3. In what situations is nominal encoding preferred over one-hot encoding? Provide a practical example.\n"
   ]
  },
  {
   "cell_type": "markdown",
   "id": "b3647de8-4b55-4eb6-9f7e-ff770ba8f6da",
   "metadata": {},
   "source": [
    "## Ans. Nominal encoding and one-hot encoding are both the same things and generally the preferred approach for categorical variables without any inherent order or hierarchy among the categories. It ensures that each category is treated equally without imposing any numerical relationship between them.\n",
    "\n",
    "## For example, consider a dataset of animal species with a categorical variable called \"Class\" that includes categories like \"Mammal,\" \"Bird,\" and \"Reptile.\" One-hot encoding would be suitable in this case because there is no inherent order or numerical relationship between these classes. Each category can be represented by a separate binary column, allowing machine learning algorithms to treat them as distinct entities."
   ]
  },
  {
   "cell_type": "markdown",
   "id": "015d7557-c24d-4236-bdba-df715cb525a8",
   "metadata": {},
   "source": [
    "## Q4. Suppose you have a dataset containing categorical data with 5 unique values. Which encoding technique would you use to transform this data into a format suitable for machine learning algorithms? Explain why you made this choice.\n"
   ]
  },
  {
   "cell_type": "markdown",
   "id": "fcb4603e-976d-45ea-aa1a-3a15978c92ac",
   "metadata": {},
   "source": [
    "## Ans. If I have a dataset with categorical data containing 5 unique values, I would recommend using one-hot encoding to transform the data into a format suitable for machine learning algorithms.\n",
    "\n",
    "## One-hot encoding is a widely used technique for handling categorical variables, especially when the number of unique categories is relatively small. "
   ]
  },
  {
   "cell_type": "markdown",
   "id": "01f50d76-3da6-405e-b93e-effd8d51b01a",
   "metadata": {},
   "source": [
    "## Q5. In a machine learning project, you have a dataset with 1000 rows and 5 columns. Two of the columns are categorical, and the remaining three columns are numerical. If you were to use nominal encoding to transform the categorical data, how many new columns would be created? Show your calculations.\n"
   ]
  },
  {
   "cell_type": "markdown",
   "id": "a5922752-ce0a-4b56-9e4e-70741fc0cd8f",
   "metadata": {},
   "source": [
    "## Ans. If you use nominal encoding to transform the two categorical columns in your dataset, you would create new columns equal to the number of unique categories in each column.\n",
    "\n",
    "## Let's assume the first categorical column has 4 unique categories and the second categorical column has 3 unique categories. \n",
    "## For the first categorical column, nominal encoding would create 4 new columns (one for each unique category).\n",
    "## For the second categorical column, nominal encoding would create 3 new columns (one for each unique category).\n",
    "\n",
    "## Therefore, using nominal encoding on the two categorical columns would result in a total of 4 + 3 = 7 new columns being created in your dataset."
   ]
  },
  {
   "cell_type": "markdown",
   "id": "3d3865be-d3c6-4446-92ff-1f27dc3e64d3",
   "metadata": {},
   "source": [
    "## Q6. You are working with a dataset containing information about different types of animals, including their species, habitat, and diet. Which encoding technique would you use to transform the categorical data into a format suitable for machine learning algorithms? Justify your answer.\n"
   ]
  },
  {
   "cell_type": "markdown",
   "id": "502332f3-317a-450e-ad44-55e921c1aa8b",
   "metadata": {},
   "source": [
    "## Ans. To transform the categorical data in the animal dataset into a format suitable for machine learning algorithms, I would recommend using a combination of label encoding and one-hot encoding, based on the nature of the categorical variables.\n",
    "## Species : Since the species column likely contains a moderate number of unique categories, one-hot encoding would be appropriate. Each unique species would be represented by a separate binary column, allowing the machine learning algorithm to treat them as distinct categories.\n",
    "## Habitat : If the habitat column contains a larger number of unique categories, one-hot encoding might result in a high-dimensional and sparse feature space. In such cases, label encoding can be a better choice. Label encoding assigns a unique numerical label to each category, transforming them into numerical values.\n",
    "## Diet (Assuming a small no. of unique diets): If the diet column has a small number of unique categories, one-hot encoding can be used as it efficiently represents these categories as binary columns without introducing any ordinality."
   ]
  },
  {
   "cell_type": "markdown",
   "id": "046ff42c-a87f-48de-b0c2-a31b5826a16e",
   "metadata": {},
   "source": [
    "## Q7.You are working on a project that involves predicting customer churn for a telecommunications company. You have a dataset with 5 features, including the customer's gender, age, contract type, monthly charges, and tenure. Which encoding technique(s) would you use to transform the categorical data into numerical data? Provide a step-by-step explanation of how you would implement the encoding."
   ]
  },
  {
   "cell_type": "markdown",
   "id": "57ccac2f-448b-4a99-adfd-575c3fc78773",
   "metadata": {},
   "source": [
    "## Ans. To transform the categorical data in the customer churn dataset into numerical data for predicting customer churn, I would use a combination of label encoding and one-hot encoding, depending on the nature and cardinality of the categorical features. Here's a step-by-step explanation of how I would implement the encoding:\n",
    "\n",
    "### Gender (Assuming two categories: Male and Female):Since gender has only two categories, label encoding can be applied. Assigning numerical labels, such as 0 for Male and 1 for Female, would effectively encode the gender feature.\n",
    "\n",
    "### Contract type (Assuming multiple categories: Month-to-month, One year, Two year): Contract type has multiple categories, and each category is distinct without any inherent order. Hence, one-hot encoding is suitable. Create separate binary columns for each category, such as Contract_MonthToMonth, Contract_OneYear, and Contract_TwoYear. Assign a value of 1 in the corresponding column if the customer's contract type matches that category; otherwise, assign 0.\n",
    "\n",
    "### Monthly charges (Assuming continuous numerical data): Monthly charges are already in numerical format, so no encoding is required. You can leave this feature as it is.\n",
    "\n",
    "### Tenure (Assuming continuous numerical data): Similar to monthly charges, tenure is a numerical feature and does not require encoding. Keep it as is.\n",
    "\n",
    "### Age (Assuming continuous numerical data): Age is also a numerical feature and can be left as is without any encoding."
   ]
  },
  {
   "cell_type": "code",
   "execution_count": null,
   "id": "21b77da9-1829-447d-9897-c61dbbcff409",
   "metadata": {},
   "outputs": [],
   "source": []
  }
 ],
 "metadata": {
  "kernelspec": {
   "display_name": "Python 3 (ipykernel)",
   "language": "python",
   "name": "python3"
  },
  "language_info": {
   "codemirror_mode": {
    "name": "ipython",
    "version": 3
   },
   "file_extension": ".py",
   "mimetype": "text/x-python",
   "name": "python",
   "nbconvert_exporter": "python",
   "pygments_lexer": "ipython3",
   "version": "3.10.8"
  }
 },
 "nbformat": 4,
 "nbformat_minor": 5
}
