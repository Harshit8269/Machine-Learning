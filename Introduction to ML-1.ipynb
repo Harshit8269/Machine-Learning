{
 "cells": [
  {
   "cell_type": "markdown",
   "id": "608542cb-2a4a-4e0f-ad42-d6833767a8c4",
   "metadata": {},
   "source": [
    "## Q1- Explain the following with an Example\n",
    "### a) Artificial Intelligence\n",
    "### b) Machine Learning\n",
    "### c) Deep Learning"
   ]
  },
  {
   "cell_type": "markdown",
   "id": "7cbaeff2-0e48-4ee8-a8ae-3d22e8842264",
   "metadata": {},
   "source": [
    "## Ans. 1 (a) Artificial Intelligence is the application that can perform it's own task without any human interaction. \n",
    "### Eg: Self driving cars, Voice Assistants \n",
    "## (b) Machine Learning provides stats tool to analyze,visualize and predict models. \n",
    "### Eg: Movie Recommendation systems like Netflix or Amazon prime.\n",
    "## (c) Deep Learning - Mimic the human brain by creating (multi layered neural network). \n",
    "### Eg: Image Recognition, Object Detection, Chatbots etc."
   ]
  },
  {
   "cell_type": "markdown",
   "id": "d20e5975-7a2b-4eae-a2e8-062dd6434911",
   "metadata": {},
   "source": [
    "## Q2- What is supervised learning? List some Examples of supervised learning ?"
   ]
  },
  {
   "cell_type": "markdown",
   "id": "0e02e5ff-3f79-4ac8-b0f3-a52daaf1dd9f",
   "metadata": {},
   "source": [
    "## Ans. 2  Supervised learning is a type of machine learning where an algorithm learns from labeled training data to make predictions or decisions.\n",
    "## In this approach, the algorithm is provided with a dataset that contains input data and corresponding correct output labels. The goal is for the algorithm to learn a mapping between the input and output so that it can accurately predict the output\n",
    "### Eg: Email spam classification, stock price prediction, Image classification."
   ]
  },
  {
   "cell_type": "markdown",
   "id": "f35acecc-0c95-40ee-b56d-2334759985af",
   "metadata": {},
   "source": [
    "## Q3- What is unsupervised learning? List some Examples of unsupervised learning."
   ]
  },
  {
   "cell_type": "markdown",
   "id": "659c8229-5740-4829-90ad-e04b7dbe5583",
   "metadata": {},
   "source": [
    "## Ans. 3 Unsupervised learning is a type of machine learning where the algorithm learns from unlabeled data, meaning there are no predefined output labels provided.\n",
    "## The goal is for the algorithm to discover patterns, relationships, or structures in the data without any explicit guidance.\n",
    "### Eg: Clustering, Anomaly Detection, Market Basket Analysis etc."
   ]
  },
  {
   "cell_type": "markdown",
   "id": "d2d6459c-f1ac-4085-b5dd-24a5a17638f1",
   "metadata": {},
   "source": [
    "## Q4- What is the difference between AI, ML, DL, and DS?\n",
    "\n"
   ]
  },
  {
   "cell_type": "markdown",
   "id": "8ac02593-ed16-41b2-b697-923570841c7d",
   "metadata": {},
   "source": [
    "## Ans. 4 AI is the broader concept of creating intelligent machines,\n",
    "## ML is a subset of AI that focuses on enabling machines to learn from data,\n",
    "## DL is a subset of ML that specifically uses artificial neural networks for learning from data,\n",
    "## and DS involves extracting insights and knowledge from data using various techniques."
   ]
  },
  {
   "cell_type": "markdown",
   "id": "8c861463-011f-4f25-a8e7-79897cdb4021",
   "metadata": {},
   "source": [
    "## Q5- What are the main differences between supervised, unsupervised, and semi-supervised learning?\n",
    "\n"
   ]
  },
  {
   "cell_type": "markdown",
   "id": "236c3341-b273-41a6-977f-710dd70f7661",
   "metadata": {},
   "source": [
    "## Ans. 5 Supervised Learning: In supervised learning, the algorithm learns from labeled data, where input data is accompanied by corresponding output labels. The goal is for the algorithm to learn a mapping between the input and output to make accurate predictions or classifications on new, unseen data.\n",
    "\n",
    "## Unsupervised Learning: In unsupervised learning, the algorithm learns from unlabeled data, where there are no predefined output labels. The objective is for the algorithm to discover patterns, relationships, or structures in the data without any explicit guidance. It involves clustering similar data points or finding anomalies in the data.\n",
    "\n",
    "## Semi-Supervised Learning: Semi-supervised learning combines elements of both supervised and unsupervised learning. It utilizes a small amount of labeled data along with a larger amount of unlabeled data. The algorithm learns from the labeled data to make predictions or classifications, while also leveraging the unlabeled data to discover additional patterns or improve the overall performance of the model."
   ]
  },
  {
   "cell_type": "markdown",
   "id": "2b761888-e196-4c3e-878e-4eaeeb122faf",
   "metadata": {},
   "source": [
    "## Q6- What is train, test and validation split? Explain the importance of each term.\n",
    "\n"
   ]
  },
  {
   "cell_type": "markdown",
   "id": "ef8909b4-0d73-49c7-8703-f7198b234a01",
   "metadata": {},
   "source": [
    "## Ans. 6 \n",
    "## Train Set: The train set is the portion of the dataset used to train or teach the machine learning model. It consists of input data paired with corresponding output labels (in supervised learning). The model learns from this data to discover patterns and relationships, adjusting its internal parameters to minimize errors.\n",
    "\n",
    "## Importance: The train set is crucial as it provides the foundation for the model to learn and generalize from the provided data. It enables the model to capture patterns, make predictions, and improve its performance through iterations.\n",
    "\n",
    "## Test Set: The test set is a separate subset of the dataset used to evaluate the model's performance and assess its ability to generalize to unseen data. It contains input data and corresponding output labels (if available). The model's predictions on the test set are compared to the actual labels to measure its accuracy or other performance metrics.\n",
    "\n",
    "## Importance: The test set helps determine how well the model performs on new, unseen data. It serves as an unbiased evaluation of the model's performance and helps assess whether the model has learned the underlying patterns and can make accurate predictions.\n",
    "\n",
    "## Validation Set: The validation set is an optional subset of the dataset used during the model training phase to tune hyperparameters and assess different model variations. It aids in the model selection process and prevents overfitting, which occurs when a model becomes too specialized to the training data and performs poorly on unseen data.\n",
    "## Importance: The validation set allows for the fine-tuning of the model's hyperparameters, such as learning rate or regularization strength. It helps in selecting the best-performing model variant, optimizing its configuration, and avoiding overfitting by providing a way to validate the model's performance on unseen data.\n"
   ]
  },
  {
   "cell_type": "markdown",
   "id": "86fa9bda-c186-4056-be55-a0472668f03a",
   "metadata": {},
   "source": [
    "## Q7- How can unsupervised learning be used in anomaly detection?\n",
    "\n"
   ]
  },
  {
   "cell_type": "markdown",
   "id": "8c78cf0b-0b5b-46f7-9456-c4de4e7bf5eb",
   "metadata": {},
   "source": [
    "## Ans. 7  Unsupervised learning in anomaly detection involves training the algorithm on normal data, identifying deviations from learned patterns, and flagging those deviations as anomalies. By leveraging unsupervised techniques, the algorithm can effectively detect outliers or anomalies without relying on labeled data or prior knowledge of specific anomalies."
   ]
  },
  {
   "cell_type": "markdown",
   "id": "2ac41138-2208-4cf4-9a23-277339ec0504",
   "metadata": {},
   "source": [
    "## Q8- List down some commonly used supervised learning algorithms and unsupervised learning algorithms."
   ]
  },
  {
   "cell_type": "markdown",
   "id": "e6dc4580-e6d7-46e7-b5ac-56815706dbe5",
   "metadata": {},
   "source": [
    "## Ans. 8 Supervised Learning Algorithms:\n",
    "\n",
    "### (1) Linear Regression\n",
    "### (2) Logistic Regression\n",
    "### (3) Decision Trees\n",
    "### (4) Random Forests\n",
    "### (5) Support Vector Machines (SVM)\n",
    "### (6) Naive Bayes Classifier\n",
    "### (7) k-Nearest Neighbors (k-NN)\n",
    "### (8) Gradient Boosting Methods (e.g., XGBoost, LightGBM)\n",
    "### (9) Neural Networks (including Deep Learning)\n",
    "\n",
    "## Unsupervised Learning Algorithms:\n",
    "### (1) K-means Clustering\n",
    "### (2) Hierarchical Clustering\n",
    "### (3) DBSCAN (Density-Based Spatial Clustering of Applications with Noise)\n",
    "### (4) Gaussian Mixture Models (GMM)\n",
    "### (5) Principal Component Analysis (PCA)\n",
    "### (6) t-Distributed Stochastic Neighbor Embedding (t-SNE)\n",
    "### (7) Association Rule Learning (e.g., Apriori algorithm)\n",
    "### (8) Self-Organizing Maps (SOM)\n",
    "### (9) Autoencoders\n",
    "\n",
    "\n",
    "\n",
    "\n",
    "\n",
    "\n"
   ]
  },
  {
   "cell_type": "code",
   "execution_count": null,
   "id": "61ebbe6d-ed52-4f65-b5fa-9fcd2ee8aece",
   "metadata": {},
   "outputs": [],
   "source": []
  }
 ],
 "metadata": {
  "kernelspec": {
   "display_name": "Python 3 (ipykernel)",
   "language": "python",
   "name": "python3"
  },
  "language_info": {
   "codemirror_mode": {
    "name": "ipython",
    "version": 3
   },
   "file_extension": ".py",
   "mimetype": "text/x-python",
   "name": "python",
   "nbconvert_exporter": "python",
   "pygments_lexer": "ipython3",
   "version": "3.10.8"
  }
 },
 "nbformat": 4,
 "nbformat_minor": 5
}
